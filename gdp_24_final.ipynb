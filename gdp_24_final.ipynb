{
 "cells": [
  {
   "cell_type": "markdown",
   "id": "bd1f3523",
   "metadata": {
    "deletable": false,
    "editable": false
   },
   "source": [
    "# Übungen: Grundlagen der Programmierung: Prüfung 2\n",
    "\n",
    "### Herbstsemester 2024\n",
    "\n",
    "\n",
    "##### Bearbeitungszeit:\n",
    "\n",
    "60 Minuten\n",
    "\n",
    "##### Maximal erreichbare Punktzahl: \n",
    "\n",
    "60\n",
    "\n",
    "##### Erlaubte Hilfsmittel: \n",
    "\n",
    "Studierende nicht deutscher Muttersprache dürfen Google Translate benutzen um die Aufgaben zu übersetzen. \n",
    "\n",
    "* [Link zu Google Translate](https://translate.google.com)\n",
    "\n",
    "Falls benötigt, können Sie hier auf die Dokumentation von Java zugreifen:\n",
    "\n",
    "* [Java-Dokumentation](https://docs.oracle.com/javase/8/docs/api/?java/lang/Math.html)"
   ]
  },
  {
   "cell_type": "markdown",
   "id": "61c53bb5",
   "metadata": {
    "deletable": false,
    "editable": false
   },
   "source": [
    "**Schreiben Sie in diese Zelle Ihren Vornamen und Namen und E-Mail Adresse**"
   ]
  },
  {
   "cell_type": "markdown",
   "id": "a64c0141",
   "metadata": {
    "deletable": false,
    "exercise_id": 0
   },
   "source": [
    "Hans Muster hans.muster@unibas.ch"
   ]
  },
  {
   "cell_type": "markdown",
   "id": "35b92833",
   "metadata": {
    "deletable": false,
    "editable": false
   },
   "source": [
    "### Aufgabe 1: Warm-up (5 Punkte)\n",
    "\n",
    "Schreiben Sie eine Klassenmethode `occurences`, welche als Parameter einen String und einen Buchstaben übergeben bekommt, und zurückgibt, wie oft dieser Buchstabe im String vorkommt. Sie können dabei annehmen, dass der String nur aus Kleinbuchstaben besteht.\n",
    "\n",
    "Als Beispiel soll der Aufruf `occurences(\"adam\", 'a')` den Wert `2` zurückgeben.\n",
    "\n",
    "Falls nötig, können Sie über diesen Link auf die Dokumentation der Klasse [String](https://docs.oracle.com/en/java/javase/17/docs/api/java.base/java/lang/String.html) zugreifen. \n"
   ]
  },
  {
   "cell_type": "code",
   "execution_count": null,
   "id": "df8db84b",
   "metadata": {
    "deletable": false,
    "exercise_id": 1,
    "vscode": {
     "languageId": "java"
    }
   },
   "outputs": [],
   "source": [
    "class WarmUp {\n",
    "\n",
    "    // Ihre Lösung\n",
    "    \n",
    "    public static void main(String[] args) {\n",
    "        System.out.println(occurences(\"adam\", 'a')); // sollte 2 ergeben\n",
    "        System.out.println(occurences(\"mississippi\", 's')); // sollte 4 ergeben\n",
    "        System.out.println(occurences(\"mississippi\", 'a')); // sollte 0 ergeben   \n",
    "    }\n",
    "}"
   ]
  },
  {
   "cell_type": "code",
   "execution_count": null,
   "id": "e40e2db8",
   "metadata": {
    "deletable": false,
    "vscode": {
     "languageId": "java"
    }
   },
   "outputs": [],
   "source": [
    "WarmUp.main(new String[0]);"
   ]
  },
  {
   "cell_type": "markdown",
   "id": "a5ae5a84",
   "metadata": {
    "deletable": false,
    "editable": false
   },
   "source": [
    "### Aufgabe 2: Arrays (8 Punkte)\n",
    "\n",
    "Schreiben Sie eine Klassenmethode `sumInArray`, welches 3 Arrays von Ganzzahlen entgegennimmt und entscheidet, ob es Zahlen $a$ im ersten Array, $b$ im zweiten Array und $c$ im dritten Array gibt, so dass $a + b = c$.\n",
    "\n",
    "Beispiel: Der Aufruf mit den Arrays `{1, 2}`, `{3, 7}` und `{5, 0})` soll `true` zurückgeben, da $2 + 3 = 5$.\n",
    "\n",
    " \n",
    "\n"
   ]
  },
  {
   "cell_type": "code",
   "execution_count": null,
   "id": "e0f2f85c",
   "metadata": {
    "deletable": false,
    "exercise_id": 2,
    "vscode": {
     "languageId": "java"
    }
   },
   "outputs": [],
   "source": [
    "class Arrays {\n",
    "\n",
    "    \n",
    "    // Ihre Lösung\n",
    "    \n",
    "    \n",
    "    public static void main(String[] args) {\n",
    "        System.out.println(sumInArray(new int[]{1, 2}, new int[]{3, 7}, new int[]{5, 0})); // sollte true ergeben\n",
    "        System.out.println(sumInArray(new int[]{1, 2}, new int[]{3, 7}, new int[]{3, 0})); // sollte false ergeben\n",
    "    }\n",
    "}"
   ]
  },
  {
   "cell_type": "code",
   "execution_count": null,
   "id": "7aa34584",
   "metadata": {
    "deletable": false,
    "vscode": {
     "languageId": "java"
    }
   },
   "outputs": [],
   "source": [
    "Arrays.main(new String[0]);"
   ]
  },
  {
   "cell_type": "markdown",
   "id": "970bda93",
   "metadata": {
    "deletable": false,
    "editable": false,
    "vscode": {
     "languageId": "java"
    }
   },
   "source": [
    "### Aufgabe 3: Mehrdimensionale Arrays (10 Punkte)\n",
    "\n",
    "Schreiben Sie eine Klassenmethode `pascal`, welches eine positive Zahl $n$ übergeben bekommt, und ein Array `A` von $n$ Arrays von Länge $n$ erstellt, welches die folgenden Eigenschaften erfüllt:\n",
    "\n",
    "* `A[0][i]` ist `0` für alle $i<n$,\n",
    "* `A[i][0]` ist `0` für alle $i<n$,\n",
    "* `A[i][j]` ist `A[i-1][j] + A[i][j-1]` für alle anderen relevanten Paare $(i,j)$\n",
    "\n",
    "Beispiel: Der Aufruf `pascal(4)` soll das Array `[[1,1,1,1],[1,2,3,4], [1,3,6,10], [1,4,10,20]]` erzeugen."
   ]
  },
  {
   "cell_type": "code",
   "execution_count": null,
   "id": "4c7e695f",
   "metadata": {
    "deletable": false,
    "exercise_id": 3,
    "vscode": {
     "languageId": "java"
    }
   },
   "outputs": [],
   "source": [
    "class MultidimensionalArray {\n",
    "\n",
    "    \n",
    "    // Ihre Lösung\n",
    "    \n",
    "    \n",
    "    public static void main(String[] args) {\n",
    "        System.out.println(Arrays.deepToString(pascal(4)));\n",
    "    }\n",
    "}"
   ]
  },
  {
   "cell_type": "code",
   "execution_count": null,
   "id": "9fec43cf",
   "metadata": {
    "deletable": false,
    "vscode": {
     "languageId": "java"
    }
   },
   "outputs": [],
   "source": [
    "MultidimensionalArray.main(new String[0]);"
   ]
  },
  {
   "cell_type": "markdown",
   "id": "914f7816",
   "metadata": {
    "deletable": false,
    "editable": false
   },
   "source": [
    "### Aufgabe 4: Klassen und Objekte (6 Punkte)\n",
    "\n",
    "Sie müssen eine Anwendung für einen Chor erstellen. Dabei sollen für jedes Chormitglied der Name, die Stimmlage (Sopran, Alt, Tenor oder Bass) sowie das Alter gespeichert werden.\n",
    "\n",
    "Schreiben Sie eine Klasse `Member`. Die Klasse repräsentiert ein Chormitglied und enthält die Attribute `name, voiceType, age`. Wählen Sie dazu die passenden Datentypen für die Felder und deklarieren Sie diese als privat. Schreiben sie einen Konstruktor mittels welchem Sie Instanzen der Klasse durch Angabe von Name, Stimmlage und Alter erstellen können. Definieren Sie zusätzlich zwei öffentliche Konstanten vom Typ String mit dem Namen *SOPRAN*  und *TENOR*, welche zwei mögliche Stimmlagen definieren.\n",
    "\n",
    "Erstellen Sie dann ein Objekt, welche den Sänger Luciano repräsentiert, der 75 Jahre alt ist und in der Stimmlage Tenor singt.\n"
   ]
  },
  {
   "cell_type": "code",
   "execution_count": null,
   "id": "a7b86e4a",
   "metadata": {
    "deletable": false,
    "exercise_id": 4,
    "vscode": {
     "languageId": "java"
    }
   },
   "outputs": [],
   "source": [
    "class ClassesAndObjects {\n",
    "    \n",
    "    public static void main(String[] args) {\n",
    "        // In dieser Klasse können Sie die Instanzen der Klasse Member erstellen        \n",
    "    }\n",
    "    \n",
    "}\n"
   ]
  },
  {
   "cell_type": "code",
   "execution_count": null,
   "id": "331eb62b",
   "metadata": {
    "deletable": false,
    "vscode": {
     "languageId": "java"
    }
   },
   "outputs": [],
   "source": [
    "ClassesAndObjects.main(new String[0]);"
   ]
  },
  {
   "cell_type": "markdown",
   "id": "ec6b957c",
   "metadata": {
    "deletable": false,
    "editable": false
   },
   "source": [
    "### Aufgabe 5:  Interfaces (6 Punkte)\n",
    "\n",
    "Gegeben ist das Interface `HasArea` das wie folgt definiert ist:\n",
    "\n",
    "```java \n",
    "interface HasArea {\n",
    "  // Gibt die Fläche eines Objekts aus.\n",
    "  double area();\n",
    "}\n",
    "```\n",
    "\n",
    "Implementieren Sie eine Klasse `Square`, welche ein Rechteck. Die Klasse `Square` soll das Interface `HasArea` implementieren. Im Konstruktor soll das repräsentierte Rechteck durch zwei Seitenlängen angegeben werden können. Implementieren Sie dann eine Klassenmethode `printArea` in der Klasse `Geometry`, welches eine Instanzen des Typs `HasArea` als Argument entgegennimmt und dessen Fläche ausgibt.\n",
    "\n",
    "Zur Erinnerung: die Fläche eines Rechtecks berechnet sich als Produkt der zwei Seitenlängen."
   ]
  },
  {
   "cell_type": "code",
   "execution_count": null,
   "id": "55a5e720",
   "metadata": {
    "deletable": false,
    "exercise_id": 5,
    "vscode": {
     "languageId": "java"
    }
   },
   "outputs": [],
   "source": [
    "interface HasArea {\n",
    "  // Gibt die Fläche eines Objekts aus.\n",
    "  double area();\n",
    "}\n",
    "\n",
    "\n",
    "// Ihre Implementation von Square\n",
    "\n",
    "\n",
    "class Geometry {\n",
    "    \n",
    "    // Ihre Implementation von printArea\n",
    "\n",
    "    \n",
    "    public static void main(String[] args) {\n",
    "        \n",
    "        // Zum Testen kommentieren Sie diesen Code aus\n",
    "        /* \n",
    "        Square mySquare = new Square(2.0, 1.5);\n",
    "        printArea(mySquare);\n",
    "        */\n",
    "    }\n",
    "}"
   ]
  },
  {
   "cell_type": "code",
   "execution_count": null,
   "id": "4e6cd6a5",
   "metadata": {
    "deletable": false,
    "vscode": {
     "languageId": "java"
    }
   },
   "outputs": [],
   "source": [
    "Geometry.main(new String[0]);"
   ]
  },
  {
   "cell_type": "markdown",
   "id": "dcef215d",
   "metadata": {
    "deletable": false,
    "editable": false
   },
   "source": [
    "### Aufgabe 6: Vererbung (5 Punkte)\n",
    "\n",
    "Gegeben ist die Klasse Printer, die wie folgt definiert ist:\n",
    "\n",
    "```java\n",
    "class Printer {\n",
    "    \n",
    "    void print(String text) { \n",
    "        System.out.print(text);\n",
    "       }\n",
    "}\n",
    "```\n",
    "\n",
    "Implementieren Sie eine Klasse `PrettyPrinter`, welche von der Klassse ```Printer``` erbt aber die Methode ```print``` so erweitert, dass jeweils vor und nach der Ausgabe das Zeichen `*` ausgegeben wird. Dazu soll die bestehende Methode `print` der Klasse ``` Printer``` genutzt werden (die aber nicht verändert werden darf)."
   ]
  },
  {
   "cell_type": "code",
   "execution_count": null,
   "id": "28e65cf7",
   "metadata": {
    "deletable": false,
    "exercise_id": 6,
    "vscode": {
     "languageId": "java"
    }
   },
   "outputs": [],
   "source": [
    "class Printer {\n",
    "    \n",
    "    void print(String text) { \n",
    "        System.out.print(text);\n",
    "    }\n",
    "}\n",
    "\n",
    "// Ihre Lösung\n",
    "\n",
    "class Inherit {\n",
    "\n",
    "    public static void main(String[] args) {\n",
    "        // Zum Testen kommentieren Sie diesen Code aus\n",
    "        /* \n",
    "        PrettyPrinter printer = new PrettyPrinter();\n",
    "        printer.print(\"Hallo\");\n",
    "        */\n",
    "    }\n",
    "\n",
    "}"
   ]
  },
  {
   "cell_type": "code",
   "execution_count": null,
   "id": "a16c098d",
   "metadata": {
    "deletable": false,
    "vscode": {
     "languageId": "java"
    }
   },
   "outputs": [],
   "source": [
    "Inherit.main(new String[0]);"
   ]
  },
  {
   "cell_type": "markdown",
   "id": "dc18d371",
   "metadata": {
    "deletable": false,
    "editable": false
   },
   "source": [
    "### Aufgabe 7: Fehlerbehandlung (8 Punkte)\n",
    "\n",
    "Wenn Sie die untenstehende Klasse ausführen sehen Sie, dass die Methode `divide` bei \n",
    "Division durch 0 `Infinity` zurückgibt. Dies kann in einer Berechnung zu unerwarten Ergebnissen führen. Ändern Sie die Methode so ab, dass die Methode bei Division durch 0 eine Exception wirft. Die Main-Methode soll so angepasst werden, dass falls eine Exception geworfen wird eine entsprechende Fehlermeldung ausgegeben werden. \n",
    "\n",
    "```java\n",
    "class Divider {\n",
    "    public static double divide(double a, double b) {\n",
    "        return a / b;\n",
    "    }\n",
    "    \n",
    "    public static void main(String[] args) {\n",
    "        System.out.println(divide(3, 0));\n",
    "    }\n",
    "}\n",
    "```\n",
    "\n"
   ]
  },
  {
   "cell_type": "code",
   "execution_count": null,
   "id": "065596f9",
   "metadata": {
    "deletable": false,
    "exercise_id": 7,
    "vscode": {
     "languageId": "java"
    }
   },
   "outputs": [],
   "source": [
    "class Divider {\n",
    "    public static double divide(double a, double b) {\n",
    "        return a / b;\n",
    "    }\n",
    "    \n",
    "    public static void main(String[] args) {\n",
    "        System.out.println(divide(3, 0));\n",
    "    }\n",
    "}"
   ]
  },
  {
   "cell_type": "code",
   "execution_count": null,
   "id": "dd5cb60f",
   "metadata": {
    "deletable": false,
    "vscode": {
     "languageId": "java"
    }
   },
   "outputs": [],
   "source": [
    "Divider.main(new String[0]);"
   ]
  },
  {
   "cell_type": "markdown",
   "id": "16243dbb",
   "metadata": {
    "deletable": false,
    "editable": false
   },
   "source": [
    "### Aufgabe 8: Generics (12 Punkte)\n",
    "\n",
    "Implementieren Sie eine Klasse `SortedList` welches folgendes Interface implementiert:\n",
    "\n",
    "```java\n",
    "interface SortedListOps<T extends Comparable<T>> {\n",
    "    \n",
    "    // Die Anzahl im Array gespeicherten Elemente\n",
    "    int size(); \n",
    "        \n",
    "    // fügt ein neues Element in die Liste ein\n",
    "    void add(T element);\n",
    "    \n",
    "    // entfernt das grösste Element und gibt es zurück\n",
    "    T removeLargest();\n",
    "}\n",
    "```\n",
    "\n",
    "Sie dürfen dazu die Java Klasse ```ArrayList``` nutzen, welche [hier](https://docs.oracle.com/javase/8/docs/api/java/util/ArrayList.html) dokumentiert ist. Die Dokumentation zum Interface ```Comparable``` finden Sie [hier](https://docs.oracle.com/javase/8/docs/api/java/lang/Comparable.html)."
   ]
  },
  {
   "cell_type": "code",
   "execution_count": null,
   "id": "57db2b31",
   "metadata": {
    "deletable": false,
    "exercise_id": 8,
    "vscode": {
     "languageId": "java"
    }
   },
   "outputs": [],
   "source": [
    "interface SortedListOps<T extends Comparable<T>> {\n",
    "    \n",
    "    // Die Anzahl im Array gespeicherten Elemente\n",
    "    int size(); \n",
    "        \n",
    "    // fügt ein neues Element in die Liste ein\n",
    "    void add(T element);\n",
    "    \n",
    "    // entfernt das grösste Element und gibt es zurück\n",
    "    T removeLargest();\n",
    "}\n",
    "\n",
    "// Ihre Implementation von SortedList\n",
    "\n",
    "class Generics {\n",
    "\n",
    "    public static void main(String[] args) {\n",
    "        // Zum Testen kommentieren Sie diesen Code aus\n",
    "        /* \n",
    "        SortedList<Integer> il = new SortedList<Integer>();\n",
    "        il.add(5);\n",
    "        il.add(3);\n",
    "        il.add(2);\n",
    "        System.out.println(il.removeLargest());\n",
    "        System.out.println(il.size());\n",
    "        */\n",
    "    }\n",
    "}"
   ]
  },
  {
   "cell_type": "code",
   "execution_count": null,
   "id": "1f2f83a1",
   "metadata": {
    "deletable": false,
    "vscode": {
     "languageId": "java"
    }
   },
   "outputs": [],
   "source": [
    "Generics.main(new String[0]);"
   ]
  }
 ],
 "metadata": {
  "celltoolbar": "Edit Metadata",
  "exercise_series": "gdp",
  "kernelspec": {
   "display_name": "Java",
   "language": "java",
   "name": "java"
  },
  "language_info": {
   "codemirror_mode": "java",
   "file_extension": ".jshell",
   "mimetype": "text/x-java-source",
   "name": "Java",
   "pygments_lexer": "java",
   "version": "17.0.11+7-LTS-jvmci-23.0-b34"
  },
  "notebook_id": 2302
 },
 "nbformat": 4,
 "nbformat_minor": 5
}
